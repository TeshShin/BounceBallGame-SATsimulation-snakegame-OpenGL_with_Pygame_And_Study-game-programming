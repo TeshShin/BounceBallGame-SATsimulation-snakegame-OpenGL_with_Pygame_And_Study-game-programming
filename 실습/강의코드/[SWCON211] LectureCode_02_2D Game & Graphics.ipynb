{
 "cells": [
  {
   "cell_type": "markdown",
   "metadata": {},
   "source": [
    "The Lecture Codes are modified from https://inventwithpython.com/pygame/ (Code Reference 1) & https://github.com/PacktPublishing/Mathematics-for-Game-Programming-and-Computer-Graphics/ (Code Reference 2)\n",
    "\n",
    "Code Reference 1: Al Sweigart, Making Games with Python & Pygame. Createspace Independent Pub, 2012.\n",
    "Code Reference 2: Penny de Byl, Mathematics for Game Programming and Computer Graphics. Packt Programming, 2022. "
   ]
  },
  {
   "cell_type": "markdown",
   "metadata": {},
   "source": [
    "Window, Surface, Event"
   ]
  },
  {
   "cell_type": "code",
   "execution_count": 1,
   "metadata": {},
   "outputs": [
    {
     "name": "stdout",
     "output_type": "stream",
     "text": [
      "pygame 2.5.0 (SDL 2.28.0, Python 3.11.4)\n",
      "Hello from the pygame community. https://www.pygame.org/contribute.html\n",
      "Game Closed\n"
     ]
    },
    {
     "ename": "SystemExit",
     "evalue": "",
     "output_type": "error",
     "traceback": [
      "An exception has occurred, use %tb to see the full traceback.\n",
      "\u001b[1;31mSystemExit\u001b[0m\n"
     ]
    },
    {
     "name": "stderr",
     "output_type": "stream",
     "text": [
      "C:\\Users\\Seungjae\\AppData\\Roaming\\Python\\Python311\\site-packages\\IPython\\core\\interactiveshell.py:3516: UserWarning: To exit: use 'exit', 'quit', or Ctrl-D.\n",
      "  warn(\"To exit: use 'exit', 'quit', or Ctrl-D.\", stacklevel=1)\n"
     ]
    }
   ],
   "source": [
    "import pygame, sys\n",
    "from pygame.locals import *\n",
    "\n",
    "# initialize\n",
    "pygame.init()\n",
    "\n",
    "# basic settings\n",
    "SURF_WIDTH = 800\n",
    "SURF_HEIGHT = 600\n",
    "\n",
    "DISPLAYSURF = pygame.display.set_mode((SURF_WIDTH, SURF_HEIGHT))\n",
    "pygame.display.set_caption('SWCON211 Display Surface')\n",
    "\n",
    "# main game loop\n",
    "loopFinished = False\n",
    "while not loopFinished: \n",
    "    for event in pygame.event.get():\n",
    "        if event.type == QUIT:\n",
    "            loopFinished = True\n",
    "            print(\"Game Closed\")\n",
    "    pygame.display.update()\n",
    "pygame.quit()\n",
    "sys.exit()\n"
   ]
  },
  {
   "cell_type": "markdown",
   "metadata": {},
   "source": [
    "Window, Color, Pixel, Rectangle, Line"
   ]
  },
  {
   "cell_type": "code",
   "execution_count": 1,
   "metadata": {},
   "outputs": [
    {
     "name": "stdout",
     "output_type": "stream",
     "text": [
      "pygame 2.5.1 (SDL 2.28.2, Python 3.11.4)\n",
      "Hello from the pygame community. https://www.pygame.org/contribute.html\n"
     ]
    }
   ],
   "source": [
    "import pygame, sys\n",
    "from pygame.locals import *\n",
    "\n",
    "# initialize\n",
    "pygame.init()\n",
    "\n",
    "# basic settings\n",
    "screen_width = 500\n",
    "screen_height = 400\n",
    "\n",
    "screen  = pygame.display.set_mode((screen_width, screen_height))\n",
    "alpha_screen  = pygame.Surface((screen_width, screen_height), pygame.SRCALPHA)\n",
    "\n",
    "pygame.display.set_caption('SWCON211 Test')\n",
    "\n",
    "white = pygame.Color(255,255,255)\n",
    "red = pygame.Color(255,0,0,100)\n",
    "\n",
    "# facing up y-axis by flipping y-axis\n",
    "def transform_pygame_coordinates (display, x, y):\n",
    "  return x, display.get_height() - y\n",
    "\n",
    "# main game loop\n",
    "loopFinished = False\n",
    "while not loopFinished: \n",
    "    for event in pygame.event.get():\n",
    "        if event.type == pygame.locals.QUIT:\n",
    "            \n",
    "            loopFinished = True\n",
    "            print(\"Game Closed\")\n",
    "\n",
    "    # start drawing\n",
    "    screen.fill((0,0,0))\n",
    "    \n",
    "\n",
    "    rectPos = transform_pygame_coordinates(screen,100,100)\n",
    "    pygame.draw.rect(screen, red, (rectPos[0], rectPos[1], 10, 10)) # alpha is not working on the normal screen\n",
    "\n",
    "    screen.set_at((rectPos[0],rectPos[1]),white)\n",
    "    screen.set_at(transform_pygame_coordinates(screen,110,90),white) # checking its position\n",
    "    # '''\n",
    "    rectTest = pygame.Rect(100, 100, 10, 10)\n",
    "    pygame.draw.rect(alpha_screen, red, rectTest) # alpha is working on the alpha screen\n",
    "    screen.blit(alpha_screen, (0,0)) # put alpha screen on the original display surface(screen).\n",
    "    # 스크린에다가 알파스크린을 붙여넣겠다.\n",
    "    # '''\n",
    "    screen.set_at((100,100),white)\n",
    "    screen.set_at((110,110),white) # checking its position\n",
    "\n",
    "    pygame.display.update()\n",
    "\n",
    "pygame.quit()\n",
    "sys.exit()\n"
   ]
  },
  {
   "cell_type": "code",
   "execution_count": 3,
   "metadata": {},
   "outputs": [
    {
     "name": "stdout",
     "output_type": "stream",
     "text": [
      "Game Closed\n"
     ]
    },
    {
     "ename": "SystemExit",
     "evalue": "",
     "output_type": "error",
     "traceback": [
      "An exception has occurred, use %tb to see the full traceback.\n",
      "\u001b[1;31mSystemExit\u001b[0m\n"
     ]
    }
   ],
   "source": [
    "import pygame, sys\n",
    "from pygame.locals import *\n",
    "\n",
    "# initialize\n",
    "pygame.init()\n",
    "\n",
    "# basic settings\n",
    "screen_width = 500\n",
    "screen_height = 400\n",
    "\n",
    "screen  = pygame.display.set_mode((screen_width, screen_height))\n",
    "pygame.display.set_caption('SWCON211 Color Space')\n",
    "\n",
    "# main game loop\n",
    "loopFinished = False\n",
    "while not loopFinished: \n",
    "    for event in pygame.event.get():\n",
    "        if event.type == pygame.locals.QUIT:\n",
    "            loopFinished = True\n",
    "            print(\"Game Closed\")\n",
    "\n",
    "    # start drawing\n",
    "    for y in range(400):\n",
    "        for x in range(500):\n",
    "            screen.set_at((x, y), pygame.Color(0,int(x/screen_width * 255), int(y/screen_height * 255)))\n",
    "        \n",
    "    pygame.display.update()\n",
    "\n",
    "pygame.quit()\n",
    "sys.exit()"
   ]
  },
  {
   "cell_type": "markdown",
   "metadata": {},
   "source": [
    "Drawing Primitive, Sprite, Frame Rate"
   ]
  },
  {
   "cell_type": "code",
   "execution_count": 3,
   "metadata": {},
   "outputs": [
    {
     "name": "stdout",
     "output_type": "stream",
     "text": [
      "Game Closed\n"
     ]
    },
    {
     "ename": "SystemExit",
     "evalue": "",
     "output_type": "error",
     "traceback": [
      "An exception has occurred, use %tb to see the full traceback.\n",
      "\u001b[1;31mSystemExit\u001b[0m\n"
     ]
    },
    {
     "name": "stderr",
     "output_type": "stream",
     "text": [
      "C:\\Users\\shint\\AppData\\Roaming\\Python\\Python311\\site-packages\\IPython\\core\\interactiveshell.py:3534: UserWarning: To exit: use 'exit', 'quit', or Ctrl-D.\n",
      "  warn(\"To exit: use 'exit', 'quit', or Ctrl-D.\", stacklevel=1)\n"
     ]
    }
   ],
   "source": [
    "import pygame, sys\n",
    "from pygame.locals import *\n",
    "\n",
    "# initialize\n",
    "pygame.init()\n",
    "\n",
    "# basic settings\n",
    "FPS = 30\n",
    "fps_clock = pygame.time.Clock()\n",
    "\n",
    "screen_width = 500\n",
    "screen_height = 400\n",
    "\n",
    "BLACK = (  0,   0,   0)\n",
    "WHITE = (255, 255, 255)\n",
    "RED   = (255,   0,   0)\n",
    "GREEN = (  0, 255,   0)\n",
    "BLUE  = (  0,   0, 255)\n",
    "\n",
    "screen  = pygame.display.set_mode((screen_width, screen_height), 0, 32)\n",
    "screen.fill(WHITE)\n",
    "pygame.display.set_caption('SWCON211 Drawing')\n",
    "\n",
    "spriteBall = pygame.image.load('IMG_ball.png')\n",
    "spriteX, spriteY = 0, 0\n",
    "\n",
    "# assign color to each pixel of the display surface but it locks surface before deleting the PixelArray object.\n",
    "# pixObj = pygame.PixelArray(screen)\n",
    "# pixObj[380][280] = BLACK\n",
    "# pixObj[382][282] = BLACK\n",
    "# pixObj[384][284] = BLACK\n",
    "# pixObj[386][286] = BLACK\n",
    "# pixObj[388][288] = BLACK\n",
    "# del pixObj\n",
    "\n",
    "# main game loop\n",
    "loopFinished = False\n",
    "while not loopFinished: \n",
    "    for event in pygame.event.get():\n",
    "        if event.type == pygame.locals.QUIT:\n",
    "            loopFinished = True\n",
    "            print(\"Game Closed\")\n",
    "\n",
    "    # start drawing\n",
    "   \n",
    "    # dynamic object\n",
    "    screen.fill(WHITE)\n",
    "    screen.blit(spriteBall, (spriteX%screen_width,spriteY%screen_height))\n",
    "    spriteX += 5\n",
    "    spriteY += 5\n",
    "    # static object\n",
    "    pygame.draw.polygon(screen, GREEN, ((3, 0), (23, 106), (222, 277), (56, 277), (0, 106)), 0)\n",
    "\n",
    "    pygame.draw.line(screen, BLUE, (30, 30), (40, 50), 4)\n",
    "    pygame.draw.line(screen, BLUE, (40, 50), (30, 60))\n",
    "    pygame.draw.line(screen, BLUE, (30, 60), (100, 120), 4)\n",
    "\n",
    "    pygame.draw.circle(screen, BLACK, (400, 100), 10, 1)\n",
    "\n",
    "    pygame.draw.ellipse(screen, RED, (200, 300, 20, 20), 0)\n",
    "\n",
    "    pygame.display.update()\n",
    "    fps_clock.tick(FPS)\n",
    "\n",
    "pygame.quit()\n",
    "sys.exit()"
   ]
  },
  {
   "cell_type": "markdown",
   "metadata": {},
   "source": [
    "Line Drawing, Anti-Aliasing\n"
   ]
  },
  {
   "cell_type": "code",
   "execution_count": 3,
   "metadata": {},
   "outputs": [],
   "source": [
    "# Bresenham’s Algorithm\n",
    "\n",
    "import pygame\n",
    "from pygame.locals import *\n",
    "\n",
    "# initialize\n",
    "pygame.init()\n",
    "\n",
    "# basic settings\n",
    "screen_width = 1000\n",
    "screen_heigth = 800\n",
    "\n",
    "screen = pygame.display.set_mode((screen_width, screen_heigth))\n",
    "pygame.display.set_caption('SWCON211 Line Drawing')\n",
    "\n",
    "white = pygame.Color(255, 255, 255)\n",
    "green = pygame.Color(0, 255, 0)\n",
    "\n",
    "timesClicked = 0\n",
    "\n",
    "def plot_line(point1, point2):\n",
    "    x0, y0 = point1\n",
    "    x1, y1 = point2\n",
    "    dx = abs(x1 - x0)\n",
    "    if x0 < x1:\n",
    "        sx = 1\n",
    "    else:\n",
    "        sx = -1\n",
    "    dy = -abs(y1 - y0)\n",
    "    if y0 < y1:\n",
    "        sy = 1\n",
    "    else:\n",
    "        sy = -1\n",
    "\n",
    "    err = dx + dy\n",
    "\n",
    "    while True:\n",
    "        screen.set_at((x0, y0), white)\n",
    "        if x0 == x1 and y0 == y1:\n",
    "            break\n",
    "        err_twice = 2 * err\n",
    "        if err_twice >= dy:\n",
    "            err += dy\n",
    "            x0 += sx\n",
    "        if err_twice <= dx:\n",
    "            err += dx\n",
    "            y0 += sy\n",
    "\n",
    "\n",
    "# main game loop\n",
    "loopFinished = False\n",
    "while not loopFinished: \n",
    "    for event in pygame.event.get():\n",
    "        if event.type == pygame.QUIT:\n",
    "            loopFinished = True\n",
    "        elif event.type == MOUSEBUTTONDOWN:\n",
    "            if timesClicked == 0:\n",
    "                point1 = pygame.mouse.get_pos()\n",
    "            else:\n",
    "                point2 = pygame.mouse.get_pos()\n",
    "            timesClicked += 1\n",
    "            if timesClicked > 1:\n",
    "                plot_line(point1, point2)\n",
    "                timesClicked = 0\n",
    "\n",
    "    pygame.display.update()\n",
    "pygame.quit()\n",
    "\n"
   ]
  },
  {
   "cell_type": "code",
   "execution_count": 2,
   "metadata": {},
   "outputs": [],
   "source": [
    "# Anti-Aliasing\n",
    "import pygame\n",
    "from pygame import gfxdraw\n",
    "from pygame.locals import *\n",
    "\n",
    "pygame.init()\n",
    "\n",
    "screen_width = 1000\n",
    "screen_heigth = 800\n",
    "\n",
    "screen = pygame.display.set_mode((screen_width, screen_heigth))\n",
    "pygame.display.set_caption('SWCON211 Anti-Aliasing Test')\n",
    "\n",
    "white = pygame.Color(255, 255, 255)\n",
    "green = pygame.Color(0, 255, 0)\n",
    "\n",
    "xoriginoffset = int(screen.get_width() / 2)\n",
    "yoriginoffset = int(screen.get_height() / 2)\n",
    "\n",
    "# main game loop\n",
    "loopFinished = False\n",
    "while not loopFinished: \n",
    "    for event in pygame.event.get():\n",
    "        if event.type == QUIT:\n",
    "            loopFinished = True\n",
    "\n",
    "    # x axis\n",
    "    for x in range(-500, 500):\n",
    "        screen.set_at((x + xoriginoffset, yoriginoffset), green)\n",
    "\n",
    "    # y axis\n",
    "    for y in range(-400, 400):\n",
    "        screen.set_at((xoriginoffset, y + yoriginoffset), green)\n",
    "\n",
    "    # Without anti-aliasing\n",
    "    pygame.draw.circle(screen, white, (xoriginoffset, yoriginoffset), 200, 1)\n",
    "    pygame.draw.line(screen, white,(0,0),(screen_width+100,screen_heigth))\n",
    "    # With anti-aliasing\n",
    "    pygame.gfxdraw.aacircle(screen, xoriginoffset, yoriginoffset, 210, white)\n",
    "    pygame.draw.aaline(screen, white,(0,0),(screen_width,screen_heigth))\n",
    "    pygame.gfxdraw.line(screen, 0, 0 , screen_width-100,screen_heigth, white)\n",
    "\n",
    "    pygame.display.update()\n",
    "pygame.quit()\n",
    "\n",
    "\n",
    "\n"
   ]
  }
 ],
 "metadata": {
  "kernelspec": {
   "display_name": "Python 3",
   "language": "python",
   "name": "python3"
  },
  "language_info": {
   "codemirror_mode": {
    "name": "ipython",
    "version": 3
   },
   "file_extension": ".py",
   "mimetype": "text/x-python",
   "name": "python",
   "nbconvert_exporter": "python",
   "pygments_lexer": "ipython3",
   "version": "3.11.4"
  },
  "orig_nbformat": 4
 },
 "nbformat": 4,
 "nbformat_minor": 2
}
