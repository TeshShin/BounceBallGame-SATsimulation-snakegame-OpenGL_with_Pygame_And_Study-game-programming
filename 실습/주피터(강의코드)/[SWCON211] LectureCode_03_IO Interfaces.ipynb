{
 "cells": [
  {
   "cell_type": "markdown",
   "metadata": {},
   "source": [
    "The Lecture Codes are modified from the reference below.\n",
    "\n",
    "Code Reference 1: Al Sweigart, Making Games with Python & Pygame. Createspace Independent Pub, 2012. https://inventwithpython.com/pygame/\n",
    "Code Reference 2: Penny de Byl, Mathematics for Game Programming and Computer Graphics. Packt Programming, 2022. https://github.com/PacktPublishing/Mathematics-for-Game-Programming-and-Computer-Graphics/ "
   ]
  },
  {
   "cell_type": "markdown",
   "metadata": {},
   "source": [
    "## Mouse"
   ]
  },
  {
   "cell_type": "code",
   "execution_count": 1,
   "metadata": {},
   "outputs": [
    {
     "name": "stdout",
     "output_type": "stream",
     "text": [
      "pygame 2.5.0 (SDL 2.28.0, Python 3.11.4)\n",
      "Hello from the pygame community. https://www.pygame.org/contribute.html\n",
      "Game Closed\n"
     ]
    },
    {
     "ename": "SystemExit",
     "evalue": "",
     "output_type": "error",
     "traceback": [
      "An exception has occurred, use %tb to see the full traceback.\n",
      "\u001b[1;31mSystemExit\u001b[0m\n"
     ]
    },
    {
     "name": "stderr",
     "output_type": "stream",
     "text": [
      "C:\\Users\\Seungjae\\AppData\\Roaming\\Python\\Python311\\site-packages\\IPython\\core\\interactiveshell.py:3516: UserWarning: To exit: use 'exit', 'quit', or Ctrl-D.\n",
      "  warn(\"To exit: use 'exit', 'quit', or Ctrl-D.\", stacklevel=1)\n"
     ]
    }
   ],
   "source": [
    "import pygame, sys\n",
    "from pygame.locals import *\n",
    "\n",
    "# initialize\n",
    "pygame.init()\n",
    "\n",
    "# basic settings\n",
    "screen_width = 500\n",
    "screen_height = 400\n",
    "\n",
    "screen  = pygame.display.set_mode((screen_width, screen_height))\n",
    "pygame.display.set_caption('SWCON211 Line')\n",
    "\n",
    "white = pygame.Color(255,255,255)\n",
    "\n",
    "timesClicked = 0\n",
    "\n",
    "# main game loop\n",
    "loopFinished = False\n",
    "\n",
    "while not loopFinished: \n",
    "    for event in pygame.event.get():\n",
    "        \n",
    "        if event.type == pygame.QUIT:\n",
    "            loopFinished = True\n",
    "            print(\"Game Closed\")\n",
    "\n",
    "        elif event.type == MOUSEBUTTONDOWN:\n",
    "            if timesClicked == 0:\n",
    "                point1 = pygame.mouse.get_pos()\n",
    "            else:\n",
    "                point2 = pygame.mouse.get_pos()\n",
    "            timesClicked += 1\n",
    "            if timesClicked > 1:\n",
    "                pygame.draw.line(screen, white, point1, point2, 1)\n",
    "                timesClicked = 0\n",
    "\n",
    "    # start drawing\n",
    "    pygame.display.update()\n",
    "\n",
    "pygame.quit()\n",
    "sys.exit()\n"
   ]
  },
  {
   "cell_type": "code",
   "execution_count": 4,
   "metadata": {},
   "outputs": [
    {
     "ename": "SystemExit",
     "evalue": "",
     "output_type": "error",
     "traceback": [
      "An exception has occurred, use %tb to see the full traceback.\n",
      "\u001b[1;31mSystemExit\u001b[0m\n"
     ]
    }
   ],
   "source": [
    "import pygame, sys\n",
    "from pygame.locals import *\n",
    "\n",
    "# initialize\n",
    "pygame.init()\n",
    "\n",
    "# basic settings\n",
    "screen_width = 800\n",
    "screen_height = 800\n",
    "\n",
    "screen  = pygame.display.set_mode((screen_width, screen_height))\n",
    "pygame.display.set_caption('SWCON211 Dragging Line')\n",
    "\n",
    "buttonPosition = (0, 0, 100, 30)\n",
    "\n",
    "white = pygame.Color(255,255,255)\n",
    "green = pygame.Color(0, 255, 0)\n",
    "\n",
    "loopFinished = False\n",
    "mouse_down = False\n",
    "mouse_pos_last =(0, 0)\n",
    "\n",
    "# main game loop\n",
    "while not loopFinished: \n",
    "\n",
    "    pygame.draw.rect(screen, green, buttonPosition)\n",
    "\n",
    "    for event in pygame.event.get():\n",
    "        if event.type == pygame.QUIT:\n",
    "            loopFinished = True\n",
    "        elif event.type == MOUSEBUTTONDOWN and event.button == 1:   # Start dragging\n",
    "            mouse_down = True\n",
    "            mouse_pos_last = pygame.mouse.get_pos()\n",
    "        elif event.type == MOUSEBUTTONUP and event.button == 1:     # Release\n",
    "            mouse_down = False\n",
    "        elif event.type == MOUSEMOTION and mouse_down is True:      # During dragging\n",
    "            pygame.draw.line(screen, white, mouse_pos_last, pygame.mouse.get_pos(), 5)\n",
    "            mouse_pos_last = pygame.mouse.get_pos()\n",
    "        elif event.type == MOUSEMOTION: # Check Mouse Over\n",
    "            mpos = pygame.mouse.get_pos()\n",
    "            if buttonPosition[0] < mpos[0] < (buttonPosition[0] + buttonPosition[2]) and buttonPosition[1] < mpos[1] < (buttonPosition[1] + buttonPosition[3]):\n",
    "                print(\"Mouse Over\")\n",
    "\n",
    "    # start drawing\n",
    "    pygame.display.update()\n",
    "\n",
    "pygame.quit()\n",
    "sys.exit()\n"
   ]
  },
  {
   "cell_type": "markdown",
   "metadata": {},
   "source": [
    "## Keyboard"
   ]
  },
  {
   "cell_type": "code",
   "execution_count": null,
   "metadata": {},
   "outputs": [],
   "source": [
    "for event in pygame.event.get():\n",
    "    if event.type == pygame.KEYDOWN or event.type == pygame.KEYUP:\n",
    "        if event.mod == pygame.KMOD_NONE:\n",
    "            print('No modifier keys were in a pressed state when this '\n",
    "                  'event occurred.')\n",
    "        else:\n",
    "            if event.mod & pygame.KMOD_LSHIFT:\n",
    "                print('Left shift was in a pressed state when this event '\n",
    "                      'occurred.')\n",
    "            if event.mod & pygame.KMOD_RSHIFT:\n",
    "                print('Right shift was in a pressed state when this event '\n",
    "                      'occurred.')\n",
    "            if event.mod & pygame.KMOD_SHIFT:\n",
    "                print('Left shift or right shift or both were in a '\n",
    "                      'pressed state when this event occurred.')"
   ]
  },
  {
   "cell_type": "code",
   "execution_count": null,
   "metadata": {},
   "outputs": [],
   "source": [
    "for event in pygame.event.get():\n",
    "    if event.type == pygame.QUIT:\n",
    "        game_over = True\n",
    "    if event.type == pygame.KEYDOWN:\n",
    "        if event.key == pygame.K_UP:\n",
    "            change_to = 'UP'\n",
    "        if event.key == pygame.K_DOWN:\n",
    "            change_to = 'DOWN'\n",
    "        if event.key == pygame.K_LEFT:\n",
    "            change_to = 'LEFT'\n",
    "        if event.key == pygame.K_RIGHT:\n",
    "            change_to = 'RIGHT'"
   ]
  },
  {
   "cell_type": "code",
   "execution_count": null,
   "metadata": {},
   "outputs": [],
   "source": [
    "keys = pygame.key.get_pressed()\n",
    "...\n",
    "        if keys[pygame.K_LEFT]:\n",
    "...    \n",
    "        if keys[pygame.K_RIGHT]:\n",
    "...\n",
    "        if keys[pygame.K_UP]:\n",
    "...\n",
    "        elif keys[pygame.K_DOWN]:\n",
    "...      "
   ]
  }
 ],
 "metadata": {
  "kernelspec": {
   "display_name": "Python 3",
   "language": "python",
   "name": "python3"
  },
  "language_info": {
   "codemirror_mode": {
    "name": "ipython",
    "version": 3
   },
   "file_extension": ".py",
   "mimetype": "text/x-python",
   "name": "python",
   "nbconvert_exporter": "python",
   "pygments_lexer": "ipython3",
   "version": "3.11.4"
  },
  "orig_nbformat": 4
 },
 "nbformat": 4,
 "nbformat_minor": 2
}
