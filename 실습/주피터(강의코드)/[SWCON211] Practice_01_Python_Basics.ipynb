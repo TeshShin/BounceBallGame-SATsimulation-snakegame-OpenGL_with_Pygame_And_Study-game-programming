{
  "cells": [
    {
      "cell_type": "markdown",
      "metadata": {
        "id": "797W6Yyq5Efg"
      },
      "source": [
        "# Colab Interface"
      ]
    },
    {
      "cell_type": "code",
      "execution_count": null,
      "metadata": {
        "colab": {
          "base_uri": "https://localhost:8080/"
        },
        "id": "x5ZNB77Wzmqe",
        "outputId": "6137cab1-24f7-4ca5-d104-1ee97def9c86"
      },
      "outputs": [
        {
          "name": "stdout",
          "output_type": "stream",
          "text": [
            "hello world\n"
          ]
        }
      ],
      "source": [
        "print(\"hello world\")\n",
        "# ctrl + enter: 해당 셀 실행\n",
        "# shift + enter: 해당 셀 실행 후 내려감\n",
        "# alt + enter: 해당 셀 실행 후 하단에 셀 생성\n",
        "# ctrl + /: 영역 주석 실행\n",
        "# esc: 후 방향 키 클릭하면 셀 간 이동, a 누르면 위에 셀 생성, b 누르면 아래 셀 생성\n",
        "# ctrl + m + d: 셀 삭제\n",
        "# ctrl + m + z: 셀 수준 실행 취소"
      ]
    },
    {
      "cell_type": "markdown",
      "metadata": {
        "id": "ssHxmJOC3KU0"
      },
      "source": [
        "# Mark Down"
      ]
    },
    {
      "cell_type": "markdown",
      "metadata": {
        "id": "lht5b63b1uKi"
      },
      "source": [
        "# 제목\n",
        "## 소제목\n",
        "### 소소제목\n",
        "\n",
        "**볼드**\n",
        "*이택릭*\n",
        "\n",
        "- 불릿\n",
        " - 불릿\n",
        "    - 불릿\n",
        "\n",
        "> 들여쓰기\n",
        ">> 들여쓰기\n",
        "\n",
        "λ\n",
        "\n",
        "$math$\n",
        "\n",
        "``` 파이썬\n",
        "\n",
        "print(\"hello world\")\n",
        "\n",
        "```\n",
        "\n",
        "[링크생성](https://www.youtube.com/watch?v=k27DwgJ2KkA&list=PL_iJu012NOxfU0yTYiNKgGGVCtPrUuq0D&ab_channel=%ED%98%81%ED%8E%9C%ED%95%98%EC%9E%84)\n"
      ]
    },
    {
      "cell_type": "markdown",
      "metadata": {
        "id": "KSjibbP83Q1a"
      },
      "source": [
        "# Python Code"
      ]
    },
    {
      "cell_type": "code",
      "execution_count": null,
      "metadata": {
        "colab": {
          "base_uri": "https://localhost:8080/"
        },
        "id": "oqP-pE5E3IvD",
        "outputId": "2171393f-dc9b-4806-a900-0534254aa088"
      },
      "outputs": [
        {
          "name": "stdout",
          "output_type": "stream",
          "text": [
            "2\n"
          ]
        },
        {
          "data": {
            "text/plain": [
              "int"
            ]
          },
          "execution_count": 19,
          "metadata": {},
          "output_type": "execute_result"
        }
      ],
      "source": [
        "##################### 파이썬 기본\n",
        "ans = 1+1\n",
        "print(ans)\n",
        "type(ans)"
      ]
    },
    {
      "cell_type": "code",
      "execution_count": null,
      "metadata": {
        "colab": {
          "base_uri": "https://localhost:8080/"
        },
        "id": "OhYfbUus3cmh",
        "outputId": "25050c76-c00e-4741-b0ff-13f010cdc53f"
      },
      "outputs": [
        {
          "name": "stdout",
          "output_type": "stream",
          "text": [
            "2.0\n"
          ]
        },
        {
          "data": {
            "text/plain": [
              "float"
            ]
          },
          "execution_count": 20,
          "metadata": {},
          "output_type": "execute_result"
        }
      ],
      "source": [
        "ans = 4/2\n",
        "print(ans)\n",
        "type(ans) # float은 인덱스로 사용 불가능"
      ]
    },
    {
      "cell_type": "code",
      "execution_count": null,
      "metadata": {
        "id": "hKnzr8zH3ri4"
      },
      "outputs": [],
      "source": [
        "ans = 4//2\n",
        "print(ans)\n",
        "type(ans) # //는 몫을 계산"
      ]
    },
    {
      "cell_type": "code",
      "execution_count": null,
      "metadata": {
        "colab": {
          "base_uri": "https://localhost:8080/"
        },
        "id": "q3WsMTbH3yqM",
        "outputId": "35433243-ef78-4f5e-a17f-69d8cee24448"
      },
      "outputs": [
        {
          "name": "stdout",
          "output_type": "stream",
          "text": [
            "1\n"
          ]
        },
        {
          "data": {
            "text/plain": [
              "int"
            ]
          },
          "execution_count": 21,
          "metadata": {},
          "output_type": "execute_result"
        }
      ],
      "source": [
        "ans = 5%2\n",
        "print(ans)\n",
        "type(ans) # %는 나머지를 계산"
      ]
    },
    {
      "cell_type": "code",
      "execution_count": null,
      "metadata": {
        "colab": {
          "base_uri": "https://localhost:8080/"
        },
        "id": "DBppceQh3oyX",
        "outputId": "2f02e96b-3c90-45e2-b48d-ba1a86883641"
      },
      "outputs": [
        {
          "name": "stdout",
          "output_type": "stream",
          "text": [
            "1024\n"
          ]
        },
        {
          "data": {
            "text/plain": [
              "int"
            ]
          },
          "execution_count": 23,
          "metadata": {},
          "output_type": "execute_result"
        }
      ],
      "source": [
        "ans = 2**10\n",
        "print(ans)\n",
        "type(ans) # //는 몫을 계산"
      ]
    },
    {
      "cell_type": "code",
      "execution_count": null,
      "metadata": {
        "colab": {
          "base_uri": "https://localhost:8080/"
        },
        "id": "UmSB-8vw4gV6",
        "outputId": "558eaff7-e64f-49c6-e7d5-cf113ff2590a"
      },
      "outputs": [
        {
          "name": "stdout",
          "output_type": "stream",
          "text": [
            "3\n",
            "17\n"
          ]
        }
      ],
      "source": [
        "print(0b011) # \"0b\":이진수\n",
        "print(0x011) # \"0x\":16진수"
      ]
    },
    {
      "cell_type": "code",
      "execution_count": null,
      "metadata": {
        "id": "gTOCGNrj4z8d"
      },
      "outputs": [],
      "source": [
        "a = 10 # a라는 변수에 10이라는 값을 할당한다."
      ]
    },
    {
      "cell_type": "code",
      "execution_count": null,
      "metadata": {
        "colab": {
          "base_uri": "https://localhost:8080/",
          "height": 220
        },
        "id": "E_3i4FAj5bui",
        "outputId": "cf1a36b1-9e62-4234-c260-6fd96132aa81"
      },
      "outputs": [
        {
          "name": "stdout",
          "output_type": "stream",
          "text": [
            "1\n"
          ]
        },
        {
          "ename": "NameError",
          "evalue": "ignored",
          "output_type": "error",
          "traceback": [
            "\u001b[0;31m---------------------------------------------------------------------------\u001b[0m",
            "\u001b[0;31mNameError\u001b[0m                                 Traceback (most recent call last)",
            "\u001b[0;32m<ipython-input-39-22c875a4b2b2>\u001b[0m in \u001b[0;36m<cell line: 6>\u001b[0;34m()\u001b[0m\n\u001b[1;32m      4\u001b[0m \u001b[0mprint\u001b[0m\u001b[0;34m(\u001b[0m\u001b[0ma1\u001b[0m\u001b[0;34m)\u001b[0m\u001b[0;34m\u001b[0m\u001b[0;34m\u001b[0m\u001b[0m\n\u001b[1;32m      5\u001b[0m \u001b[0;32mdel\u001b[0m \u001b[0ma1\u001b[0m\u001b[0;34m\u001b[0m\u001b[0;34m\u001b[0m\u001b[0m\n\u001b[0;32m----> 6\u001b[0;31m \u001b[0mprint\u001b[0m\u001b[0;34m(\u001b[0m\u001b[0ma1\u001b[0m\u001b[0;34m)\u001b[0m\u001b[0;34m\u001b[0m\u001b[0;34m\u001b[0m\u001b[0m\n\u001b[0m",
            "\u001b[0;31mNameError\u001b[0m: name 'a1' is not defined"
          ]
        }
      ],
      "source": [
        "a1 = 1\n",
        "# 1a=1 # 변수 명에 숫자가 맨 앞에 올 수 없다.\n",
        "# print = 3; # 변수명으로 예약어나 함수명을 사용하지 말 것 -> 메뉴바 '런타임'->'런타임 다시 시작' 시 워크스페이스 삭제\n",
        "print(a1)\n",
        "del a1 # 변수 삭제 del 이용\n",
        "print(a1)"
      ]
    },
    {
      "cell_type": "code",
      "execution_count": null,
      "metadata": {
        "colab": {
          "base_uri": "https://localhost:8080/"
        },
        "id": "DuUu09Fb6tIC",
        "outputId": "6f8dbe72-3dc8-44a6-b56d-d93d482b0d46"
      },
      "outputs": [
        {
          "name": "stdout",
          "output_type": "stream",
          "text": [
            "a = 6\n",
            "a = 3.0\n"
          ]
        }
      ],
      "source": [
        "a = 1;\n",
        "a = a+5;\n",
        "print(\"a =\", a)\n",
        "a /= 2;\n",
        "print(\"a =\", a)"
      ]
    },
    {
      "cell_type": "code",
      "execution_count": null,
      "metadata": {
        "colab": {
          "base_uri": "https://localhost:8080/"
        },
        "id": "cwBzFyVW8A-D",
        "outputId": "8a44fc06-27fe-4ee0-9793-d488b61eb54a"
      },
      "outputs": [
        {
          "name": "stdout",
          "output_type": "stream",
          "text": [
            "False\n",
            "False\n",
            "True\n"
          ]
        }
      ],
      "source": [
        "print(a == 1)\n",
        "print(\"python\"==\"Python\")\n",
        "print(\"python\"==\"python\")"
      ]
    },
    {
      "cell_type": "markdown",
      "metadata": {
        "id": "XsOtEbQr_Qfg"
      },
      "source": [
        "# Python List & Tuple & Dictionary"
      ]
    },
    {
      "cell_type": "code",
      "execution_count": null,
      "metadata": {
        "colab": {
          "base_uri": "https://localhost:8080/"
        },
        "id": "FGlDyPGo8tI0",
        "outputId": "bfe7a9f0-b0df-4bd9-b5a4-34193cf40a1b"
      },
      "outputs": [
        {
          "name": "stdout",
          "output_type": "stream",
          "text": [
            "[1, 2, 3, 2, 6, 8]\n",
            "[1, 2, 3, 1, 2, 3, 1, 2, 3]\n",
            "3\n"
          ]
        }
      ],
      "source": [
        "##################### 리스트 기본\n",
        "a = [1, 2, 3]\n",
        "b = [2, 6, 8]\n",
        "\n",
        "print(a+b)\n",
        "print(a*3)"
      ]
    },
    {
      "cell_type": "code",
      "execution_count": null,
      "metadata": {
        "colab": {
          "base_uri": "https://localhost:8080/"
        },
        "id": "K18uMuNt8y8j",
        "outputId": "9ee5fd77-4392-4e83-8433-cd2b36a678bd"
      },
      "outputs": [
        {
          "name": "stdout",
          "output_type": "stream",
          "text": [
            "[1, 'SWCON', 'S', 'W', 'C', 'O', 'N']\n"
          ]
        }
      ],
      "source": [
        "c = [];\n",
        "c.append(1)\n",
        "c += [\"SWCON\"];\n",
        "c += \"SWCON\";\n",
        "print(c)"
      ]
    },
    {
      "cell_type": "code",
      "execution_count": null,
      "metadata": {
        "colab": {
          "base_uri": "https://localhost:8080/"
        },
        "id": "1BNH8NdHBO0g",
        "outputId": "aed269ca-b84b-4ad9-8f30-210be9e7b962"
      },
      "outputs": [
        {
          "name": "stdout",
          "output_type": "stream",
          "text": [
            "5\n",
            "h\n",
            "1\n",
            "1\n",
            "3\n"
          ]
        }
      ],
      "source": [
        "text_1 = \"hello\"\n",
        "print(len(text_1))  # len() 문자열을 넣으면 문자열 갯수\n",
        "print(text_1[0])\n",
        "\n",
        "text_2 = [\"hello\"]\n",
        "print(len(text_2))   # len() 리스트를 넣으면 리스트 갯수\n",
        "\n",
        "a = [1, 2, 3]\n",
        "print(a[0])\n",
        "print(a[-1])         # -1로 마지막 index에 access\n"
      ]
    },
    {
      "cell_type": "code",
      "execution_count": null,
      "metadata": {
        "colab": {
          "base_uri": "https://localhost:8080/"
        },
        "id": "9G5sf_gN9hur",
        "outputId": "34b10feb-c853-4e99-b401-4932ca337ba1"
      },
      "outputs": [
        {
          "name": "stdout",
          "output_type": "stream",
          "text": [
            "[0, 1, 2, 3, 4, 5, 6, 7, 8, 9]\n",
            "[1, 2, 3, 4, 5, 6, 7, 8, 9, 10]\n",
            "[1, 3, 5, 7, 9]\n",
            "[10, 9, 8, 7, 6, 5, 4, 3, 2, 1]\n"
          ]
        }
      ],
      "source": [
        "#range\n",
        "print(list(range(10)))      # defalt 0부터 시작 그리고 10미만 까지\n",
        "print(list(range(1,11)))    # 1부터 시작 그리고 11미만 까지\n",
        "print(list(range(1,11,2)))  # 1부터 시작 그리고 11미만 까지 2간격으로\n",
        "print(list(range(10,0,-1))) # 10부터 시작 그리고 0초과 까지 -1간격으로"
      ]
    },
    {
      "cell_type": "code",
      "execution_count": null,
      "metadata": {
        "colab": {
          "base_uri": "https://localhost:8080/"
        },
        "id": "wXDSzuPb_UX5",
        "outputId": "af1ef181-05e7-4e43-c47e-e5ff754916c8"
      },
      "outputs": [
        {
          "name": "stdout",
          "output_type": "stream",
          "text": [
            "<class 'tuple'>\n",
            "<class 'list'>\n",
            "(1, 'z', 3)\n",
            "<class 'tuple'>\n"
          ]
        }
      ],
      "source": [
        "##################### 튜플\n",
        "a = (1, \"z\", 3)\n",
        "print(type(a))\n",
        "\n",
        "b = [1, \"z\", 3]\n",
        "print(type(b))\n",
        "\n",
        "c = tuple(b)\n",
        "print(c)\n",
        "print(type(c))"
      ]
    },
    {
      "cell_type": "code",
      "execution_count": null,
      "metadata": {
        "colab": {
          "base_uri": "https://localhost:8080/"
        },
        "id": "r0X3ZJirAWKb",
        "outputId": "05a90f2d-8741-49bb-8bfc-a8df2d52e175"
      },
      "outputs": [
        {
          "name": "stdout",
          "output_type": "stream",
          "text": [
            "True\n",
            "[2, 1, 2, 3, 4, 5, 6, 7, 8, 9]\n",
            "[1, 2, 3, 4, 5, 6, 7, 8, 9]\n",
            "False\n",
            "True\n"
          ]
        }
      ],
      "source": [
        "a = list(range(10))\n",
        "print(1 in a)\n",
        "a[0] = 2;           # 대괄호로 인덱싱\n",
        "print(a)            # 리스트는 mutable\n",
        "del a[0]\n",
        "print(a)\n",
        "\n",
        "b = tuple(range(10))# 소괄호로 함수실행\n",
        "print(15 in b)\n",
        "#b[0] = 2;          # 튜플은 immutable\n",
        "\n",
        "c = range(10)\n",
        "print(3 in c)"
      ]
    },
    {
      "cell_type": "code",
      "execution_count": null,
      "metadata": {
        "colab": {
          "base_uri": "https://localhost:8080/"
        },
        "id": "aEn4eSACVanX",
        "outputId": "9648f00c-01a4-41f2-cc83-853e7772f684"
      },
      "outputs": [
        {
          "name": "stdout",
          "output_type": "stream",
          "text": [
            "[0, 1, 2, 3, 4]\n",
            "[0, 1, 2, 3, 4]\n",
            "[1, 2, 3, 4, 5]\n",
            "[1, 3, 5]\n",
            "\n",
            "[(0, 0), (0, 1), (0, 2), (1, 0), (1, 1), (1, 2), (2, 0), (2, 1), (2, 2)]\n"
          ]
        }
      ],
      "source": [
        "##################### 리스트 표현식\n",
        "a = [0, 1, 2, 3, 4]\n",
        "print(a)\n",
        "\n",
        "#List Comprehension\n",
        "b = [i for i in range(5)]\n",
        "print(b)\n",
        "\n",
        "b = [i+1 for i in b]                    # 특정 array에서 불러오기\n",
        "print(b)\n",
        "\n",
        "b = [i+1 for i in range(5) if i%2 == 0] # 짝수번째만 시행\n",
        "print(b)\n",
        "\n",
        "print()\n",
        "\n",
        "c = [(i,j) for i in range(3) for j in range(3)]\n",
        "print(c)\n",
        "\n"
      ]
    },
    {
      "cell_type": "code",
      "execution_count": null,
      "metadata": {
        "colab": {
          "base_uri": "https://localhost:8080/"
        },
        "id": "tVHX2QvgAtXt",
        "outputId": "f9cc4b76-ac85-404b-9c37-b0c44b1e0529"
      },
      "outputs": [
        {
          "name": "stdout",
          "output_type": "stream",
          "text": [
            "[0, 1, 2, 3, 4, 5, 6, 7, 8, 9]\n",
            "[0, 1, 2, 0, 4, 5, 0, 7, 8, 0]\n",
            "[1, 2, 3, 4, 5, 6, 7, 8, 9, 10]\n",
            "1\n",
            "[1, 2, 3]\n",
            "[1, 2, 3, 4, 5, 6, 7, 8, 9]\n",
            "[1, 3, 5, 7, 9]\n",
            "[1, 3, 5, 7, 9]\n",
            "[2, 4, 6, 8, 10]\n",
            "[1, 2, 3, 4, 5, 6, 7, 8, 9, 10]\n",
            "[1, 4, 5, 6, 7, 8, 9, 10]\n"
          ]
        }
      ],
      "source": [
        "##################### 리스트 표현식 및 인덱싱 기본\n",
        "a = list(range(10))\n",
        "print(a)\n",
        "\n",
        "print([0 if i%3==0 else i for i in a]) # 조건문을 만족시키는 일부요소에만 변형\n",
        "\n",
        "a = [i+1 for i in a]\n",
        "print(a)\n",
        "\n",
        "b = a[0]        # 0 번째 요소\n",
        "print(b)\n",
        "\n",
        "c = a[0:3]      # 0 번째 부터 3 미만 번째\n",
        "print(c)\n",
        "\n",
        "d = a[0:-1]     # 0 번째 인덱스부터 마지막 인덱스 미만까지\n",
        "print(d)\n",
        "\n",
        "e = a[0:-1:2]   # 세번째 인자 간격으로\n",
        "print(e)\n",
        "\n",
        "f = a[:-1:2]    # 첫번째 인자를 비우면 0 번째 인덱스부터\n",
        "print(f)\n",
        "\n",
        "g = a[1::2]     # 두번재 인자를 비우면 마지막 인덱스까지 포함\n",
        "print(g)\n",
        "\n",
        "h = a[:]        # 둘다 비우면 당연히 전체 요소에 접근\n",
        "print(h)\n",
        "\n",
        "i = a;\n",
        "del i[1:3]\n",
        "print(i)\n"
      ]
    },
    {
      "cell_type": "code",
      "execution_count": null,
      "metadata": {
        "colab": {
          "base_uri": "https://localhost:8080/"
        },
        "id": "cbtt8CGOJKNj",
        "outputId": "396bafa0-fddc-43eb-cd6c-354d9ab803ed"
      },
      "outputs": [
        {
          "name": "stdout",
          "output_type": "stream",
          "text": [
            "[1, 2, 3, 4, 5, [6, 7], 6, 7, 8, 9] length is 10\n",
            "[1, 2, 3, 4, 5, 6, 7, 8, 10, 9] length is 10\n",
            "[1, 2, 3, 4, 5, 6, 7, 8, 10, 9, 11] length is 11\n",
            "[1, 2, 3, 4, 5, 6, 7, 8, 9, 10] length is 10\n",
            "\n",
            "[1, 2, 3, 4, 5, [6], 7, 8, 9, 10]\n",
            "[1, 2, 3, 4, 5, [0, 0], [6], 7, 8, 9, 10]\n",
            "[1, 2, 3, 4, 5, 6, 7, 8, 9, 10]\n",
            "[1, 7, [6, 7], 2, 3, 4, 5, 6, 7, 8, 9, 10]\n",
            "[1, 2, 3, 4, 5, 6, 7, 8, 9, 10]\n"
          ]
        }
      ],
      "source": [
        "a = [1, 2, 3, 4, 5]\n",
        "a.append([6,7]) # 한 개의 원소를 추가\n",
        "a.extend([6,7]) # 리스트 확장 여러개 한번에 넣기\n",
        "a += [8,9]      # 리스트에 여러개 한번에 넣기\n",
        "\n",
        "print(a, \"length is\", len(a))\n",
        "\n",
        "a.remove([6,7])\n",
        "\n",
        "a.insert(-1,10)\n",
        "print(a, \"length is\", len(a))\n",
        "\n",
        "a.insert(len(a),len(a)+1)\n",
        "print(a, \"length is\", len(a))\n",
        "\n",
        "a.pop(9)        #9번째 인덱스의 원소 삭제\n",
        "a.insert(8,9)\n",
        "a.pop()         #마지막 원소 삭제\n",
        "print(a, \"length is\", len(a))\n",
        "\n",
        "print()\n",
        "\n",
        "a[5] = [6]        # 6->[6]\n",
        "print(a)\n",
        "a[5:5] = [[0,0]]  # 리스트 특정 위치에 뒤의 원소 삭제 안시키면서 넣기\n",
        "print(a)\n",
        "a[5:7] = [6]      # 리스트 특정 위치에 뒤의 원소 삭제 시키면서 넣기, 5 번째에서 7 미만 번째 까지\n",
        "print(a)\n",
        "a.insert(1,[6,7])\n",
        "a.insert(1,7)\n",
        "print(a)\n",
        "a.remove([6,7]) # 가장 왼쪽의 해당 엘레멘트 삭제\n",
        "a.remove(7)     # 가장 왼쪽의 해당 엘레멘트 삭제\n",
        "print(a)"
      ]
    },
    {
      "cell_type": "code",
      "execution_count": null,
      "metadata": {
        "colab": {
          "base_uri": "https://localhost:8080/",
          "height": 324
        },
        "id": "EA05VfJnS6Wd",
        "outputId": "5c127652-e1ae-4ed0-a863-b745fdca8731"
      },
      "outputs": [
        {
          "name": "stdout",
          "output_type": "stream",
          "text": [
            "[1, 2, 3, 4, 5, 6, 7, 8, 9]\n",
            "[9, 8, 7, 6, 5, 4, 3, 2, 1]\n",
            "[1, 2, 3, 4, 5, 6, 7, 8, 9]\n",
            "[1, 2, 3, 4, 5, 6, 7, 8, 9]\n",
            "[1, 2, 3, 4, 5, 6, 7, 8, 9]\n",
            "[1, 0, 3, 4, 5, 6, 7, 8, 9]\n",
            "[]\n"
          ]
        },
        {
          "ename": "NameError",
          "evalue": "ignored",
          "output_type": "error",
          "traceback": [
            "\u001b[0;31m---------------------------------------------------------------------------\u001b[0m",
            "\u001b[0;31mNameError\u001b[0m                                 Traceback (most recent call last)",
            "\u001b[0;32m<ipython-input-320-5b8445300617>\u001b[0m in \u001b[0;36m<cell line: 27>\u001b[0;34m()\u001b[0m\n\u001b[1;32m     25\u001b[0m \u001b[0;34m\u001b[0m\u001b[0m\n\u001b[1;32m     26\u001b[0m \u001b[0;32mdel\u001b[0m \u001b[0ma\u001b[0m       \u001b[0;31m# 리스트를 워크스페이스에서 삭제\u001b[0m\u001b[0;34m\u001b[0m\u001b[0;34m\u001b[0m\u001b[0m\n\u001b[0;32m---> 27\u001b[0;31m \u001b[0mprint\u001b[0m\u001b[0;34m(\u001b[0m\u001b[0ma\u001b[0m\u001b[0;34m)\u001b[0m\u001b[0;34m\u001b[0m\u001b[0;34m\u001b[0m\u001b[0m\n\u001b[0m",
            "\u001b[0;31mNameError\u001b[0m: name 'a' is not defined"
          ]
        }
      ],
      "source": [
        "##################### 리스트 연산\n",
        "a = [9,5,4,3,6,7,8,2,1]\n",
        "\n",
        "a.sort()                # 오름차순 정렬\n",
        "print(a)\n",
        "\n",
        "a.sort(reverse=True)    # 내림차순 정렬\n",
        "print(a)\n",
        "\n",
        "d = sorted(a)           # 사용된 리스트를 정렬하는 sort와는 다르게 정렬된 새 리스트 생성.\n",
        "print(d)\n",
        "\n",
        "a.reverse()             # 단순 뒤집기\n",
        "print(a)\n",
        "\n",
        "c = a.copy()\n",
        "c[1] = 0\n",
        "print(a)    # c와 a는 다른 리스트\n",
        "\n",
        "b = a\n",
        "b[1] = 0    # b = a로 쓰는 경우 같은 리스트를 참조\n",
        "print(a)\n",
        "\n",
        "a.clear()   # 리스트 값을 삭제\n",
        "print(a)\n",
        "\n",
        "del a       # 리스트를 워크스페이스에서 삭제\n",
        "print(a)"
      ]
    },
    {
      "cell_type": "code",
      "execution_count": null,
      "metadata": {
        "colab": {
          "base_uri": "https://localhost:8080/"
        },
        "id": "jJ8X1G5fYtCS",
        "outputId": "d77dc980-7921-4d2a-b79f-525ca7f88af2"
      },
      "outputs": [
        {
          "name": "stdout",
          "output_type": "stream",
          "text": [
            "Matrix mtx:\n",
            "3\n",
            "[10, 11, 12]\n",
            "12\n",
            "2D List lst:\n",
            "3\n",
            "[10, 11, 12]\n",
            "12\n"
          ]
        }
      ],
      "source": [
        "##################### 리스트 선언 - 2차원\n",
        "# the variable mtx represent a 4 row by 3 column matrix\n",
        "mtx = [[1, 2, 3],\n",
        "       [4, 5, 6],\n",
        "       [7, 8, 9],\n",
        "       [10, 11, 12],\n",
        "      ]\n",
        "print(\"Matrix mtx:\")\n",
        "print(mtx[0][2])\n",
        "print(mtx[3])\n",
        "print(mtx[3][2])\n",
        "\n",
        "# the variable lst represent a two-dimensional list\n",
        "lst = [[1, 2, 3],\n",
        "       [4, 5, 6],\n",
        "       [7, 8, 9],\n",
        "       [10, 11],\n",
        "      ]\n",
        "\n",
        "lst[3] += [12]\n",
        "\n",
        "print(\"2D List lst:\")\n",
        "print(lst[0][2])\n",
        "print(lst[3])\n",
        "print(lst[3][2])\n"
      ]
    },
    {
      "cell_type": "code",
      "execution_count": null,
      "metadata": {
        "colab": {
          "base_uri": "https://localhost:8080/"
        },
        "id": "9-GOUwP7dMyb",
        "outputId": "9961d745-df55-438e-950c-354ac6860958"
      },
      "outputs": [
        {
          "name": "stdout",
          "output_type": "stream",
          "text": [
            "[[0, 0, 0], [0, 3, 0], [0, 0, 0]]\n",
            "[[0, 0, 0], [0, 3, 0], [0, 0, 0]]\n",
            "[[0, 0, 0], [0, 3, 0], [0, 0, 0]]\n",
            "[[1, 2, 3], [4, 5, 6], [7, 8, 9]]\n",
            "[1, 2, 3]\n",
            "[4, 5, 6]\n",
            "[7, 8, 9]\n",
            "1 2 3\n",
            "4 5 6\n",
            "7 8 9\n",
            "[[0, 3, 0], [0, 3, 0], [0, 3, 0]]\n"
          ]
        }
      ],
      "source": [
        "##################### 리스트 표현식 및 인덱싱 응용\n",
        "a = []\n",
        "\n",
        "for i in range(3):\n",
        "    row = [0]*3\n",
        "    a += [row]\n",
        "print(a)\n",
        "\n",
        "a = [[0 for i in range(3)] for i in range(3)]\n",
        "print(a)\n",
        "\n",
        "a = [[0]*3 for _ in range(3)]   # 무의미한 index의 경우 '_'로 대체하여 생략 가능\n",
        "a[1][1]=3                       # 하단의 b[1][1]과 비교\n",
        "print(a)\n",
        "\n",
        "a = [[1,2,3],[4,5,6],[7,8,9]]\n",
        "print(a)\n",
        "\n",
        "for i in a:\n",
        "    print(i)\n",
        "\n",
        "for x,y,z in a:\n",
        "    print(x,y,z)\n",
        "\n",
        "\n",
        "b = [[0]*3]*3                   # 간단하지만 이런식으로 생성하는 것은 권장되지 않는다. 2차원 행렬의 두번째 차원이 모두 같은 행렬로 간주된다.\n",
        "b[1][1]=3                       # 위의 a[1][1]과 비교\n",
        "print(b)\n"
      ]
    },
    {
      "cell_type": "code",
      "execution_count": null,
      "metadata": {
        "colab": {
          "base_uri": "https://localhost:8080/"
        },
        "id": "gBuhPRrKG4Av",
        "outputId": "5380a405-5b3f-4ca2-8501-b1dfe726c554"
      },
      "outputs": [
        {
          "name": "stdout",
          "output_type": "stream",
          "text": [
            "1\n",
            "gg\n",
            "4\n",
            "dict_keys(['a', 'b', 100, 200])\n",
            "dict_items([('a', 1), ('b', 2), (100, '5'), (200, 'gg')])\n",
            "{'a': 1, 'b': 2, 100: '5', 200: 'gg'}\n",
            "100\n",
            "game\n",
            "True\n",
            "False\n"
          ]
        }
      ],
      "source": [
        "##################### 딕셔너리\n",
        "dic = {\"a\":1, \"b\":2, 100:\"5\", 200:\"gg\"}\n",
        "# Key: 숫자 문자, 불변하는 튜플은 가능 리스트는 안됨\n",
        "# Value: 값으로는 튜플, 리스트 가능\n",
        "\n",
        "print(dic[\"a\"])\n",
        "print(dic[200])\n",
        "print(len(dic))\n",
        "print(dic.keys())\n",
        "print(dic.items())\n",
        "\n",
        "# Customize Dictionary\n",
        "dic_custom = dict(zip(dic.keys(), dic.values()))\n",
        "print(dic_custom)\n",
        "\n",
        "dic[\"a\"]=100;\n",
        "print(dic[\"a\"])\n",
        "\n",
        "dic[\"e\"]=\"game\"\n",
        "print(dic[\"e\"])\n",
        "\n",
        "print(\"a\" in dic)\n",
        "print(10 in dic)"
      ]
    },
    {
      "cell_type": "markdown",
      "metadata": {
        "id": "wsHOstvJ_S9w"
      },
      "source": [
        "# Python Grammer"
      ]
    },
    {
      "cell_type": "code",
      "execution_count": null,
      "metadata": {
        "colab": {
          "base_uri": "https://localhost:8080/"
        },
        "id": "_Qkp85RR-Ste",
        "outputId": "48c24447-ebd9-4635-d951-fa8236815b28"
      },
      "outputs": [
        {
          "name": "stdout",
          "output_type": "stream",
          "text": [
            "True\n",
            "False\n",
            "good\n",
            "nice\n",
            "The value to be counted as True:\n",
            "True\n",
            "True\n",
            "The value to be counted as False:\n",
            "False\n",
            "False\n",
            "부등호 연달아 사용가능\n"
          ]
        }
      ],
      "source": [
        "##################### 조건문\n",
        "a = 5\n",
        "print( a>3 )\n",
        "print( a==3 )\n",
        "\n",
        "if a>3:\n",
        "    print(\"good\")\n",
        "    print(\"nice\")\n",
        "else:\n",
        "    print(\"this part is not executed\")\n",
        "    sdlkfjlskdjflksdj\n",
        "\n",
        "if a==3:\n",
        "    print(\"no\")\n",
        "\n",
        "# True\n",
        "print(\"The value to be counted as True:\")\n",
        "print(bool(-1))\n",
        "print(bool(\"any text\"))\n",
        "\n",
        "# False\n",
        "print(\"The value to be counted as False:\")\n",
        "print(bool(0))\n",
        "print(bool(\"\"))\n",
        "\n",
        "if 0 < a < 7:\n",
        "    print(\"부등호 연달아 사용가능\")"
      ]
    },
    {
      "cell_type": "code",
      "execution_count": null,
      "metadata": {
        "colab": {
          "base_uri": "https://localhost:8080/"
        },
        "id": "aYLSxBYaBrGH",
        "outputId": "61cd0f49-84c3-466f-bc21-5d2bc72008cd"
      },
      "outputs": [
        {
          "name": "stdout",
          "output_type": "stream",
          "text": [
            "조건문이 성립하나?\n"
          ]
        }
      ],
      "source": [
        "a = 5\n",
        "\n",
        "# 실행 중에 조건문이 성립하면 바로 조건문을 종료\n",
        "if a < 10:\n",
        "    print(\"조건문이 성립하나?\")\n",
        "elif a < 25:\n",
        "    print(\"이거는 성립하나?\")\n",
        "else:\n",
        "    print(\"둘다 아냐?\")"
      ]
    },
    {
      "cell_type": "code",
      "execution_count": null,
      "metadata": {
        "colab": {
          "base_uri": "https://localhost:8080/"
        },
        "id": "sTjhlZ9IC-I9",
        "outputId": "b3352ab6-6159-43a9-9027-0d3d7706bb28"
      },
      "outputs": [
        {
          "name": "stdout",
          "output_type": "stream",
          "text": [
            "Repeat 10 -times\n",
            "Repeat 8 -times\n",
            "Repeat 6 -times\n",
            "Repeat 4 -times\n",
            "Repeat 2 -times\n",
            "Repeat 0 -times\n",
            "10\n",
            "9\n",
            "3\n",
            "2\n",
            "hello\n"
          ]
        }
      ],
      "source": [
        "##################### 반복문\n",
        "for i in range(10,-1,-2):\n",
        "    print(\"Repeat\", i, \"-times\")\n",
        "\n",
        "rng_num = [10,9,3,2]\n",
        "rng_str = 'hello'\n",
        "rng_mix = rng_num + [rng_str]\n",
        "\n",
        "for i in rng_mix:\n",
        "    print(i)"
      ]
    },
    {
      "cell_type": "code",
      "execution_count": null,
      "metadata": {
        "colab": {
          "base_uri": "https://localhost:8080/"
        },
        "id": "PPgAKQIkEowh",
        "outputId": "0e730030-8a2c-4f48-d882-10390739cee5"
      },
      "outputs": [
        {
          "name": "stdout",
          "output_type": "stream",
          "text": [
            "0 0\n",
            "0 1\n",
            "0 2\n",
            "0 3\n",
            "1 0\n",
            "1 1\n",
            "1 2\n",
            "1 3\n",
            "2 0\n",
            "2 1\n",
            "2 2\n",
            "2 3\n",
            "\n",
            "0\n",
            "1\n",
            "2\n",
            "3\n",
            "4\n",
            "\n",
            "0\n",
            "1\n",
            "2\n",
            "3\n",
            "4\n",
            "\n",
            "1\n",
            "3\n",
            "5\n",
            "7\n",
            "9\n"
          ]
        }
      ],
      "source": [
        "for i in range(3):\n",
        "    for j in range(4):\n",
        "        print(i,j)\n",
        "\n",
        "print()                 # 중간에 한줄 개행\n",
        "\n",
        "i = 0;\n",
        "while i < 5:\n",
        "    print(i)\n",
        "    i += 1\n",
        "\n",
        "print(end=\"\\n\")         # 위의 개행 세부 설명\n",
        "\n",
        "for i in range(100000): # 디버깅 목적으로 활용가능\n",
        "    if i == 5:\n",
        "        break\n",
        "    print(i)\n",
        "\n",
        "print(end=\"\\n\")         # 위의 개행 세부 설명\n",
        "\n",
        "for i in range(10):     # 디버깅 목적으로 활용가능\n",
        "    if i % 2 == 0:\n",
        "        continue\n",
        "    else:\n",
        "        print(i)"
      ]
    },
    {
      "cell_type": "code",
      "execution_count": null,
      "metadata": {
        "colab": {
          "base_uri": "https://localhost:8080/"
        },
        "id": "cz29Vgy_HwZf",
        "outputId": "45f519dd-f203-495a-e47c-5390ff425a66"
      },
      "outputs": [
        {
          "name": "stdout",
          "output_type": "stream",
          "text": [
            "1 번째의 값은 1\n",
            "2 번째의 값은 2\n",
            "3 번째의 값은 3\n",
            "4 번째의 값은 4\n",
            "5 번째의 값은 5\n"
          ]
        }
      ],
      "source": [
        "a = [1, 2, 3, 4, 5]\n",
        "\n",
        "for i, val in enumerate(a, start = 1):\n",
        "    print(i, \"번째의 값은\", val)"
      ]
    },
    {
      "cell_type": "code",
      "execution_count": null,
      "metadata": {
        "colab": {
          "base_uri": "https://localhost:8080/"
        },
        "id": "XJsKzkVDmOhX",
        "outputId": "27d1f293-e3ad-4c13-f28a-ef59ad67f258"
      },
      "outputs": [
        {
          "name": "stdout",
          "output_type": "stream",
          "text": [
            "a = 1, b = 2, cs = KHU\n",
            "a = 1, b = KHU, cs = 2\n",
            "a = 1, b = KHU, cs = 2\n"
          ]
        }
      ],
      "source": [
        "##################### print 관련\n",
        "a = 1\n",
        "b = 2\n",
        "cs = \"KHU\"\n",
        "\n",
        "print(\"a = {0}, b = {1}, cs = {2}\".format(a,b,cs))    # a,b,c 변수가 중괄호 안의 순서에 맞춰서 들어간다.\n",
        "print(\"a = {0}, b = {2}, cs = {1}\".format(a,b,cs))\n",
        "print(f\"a = {a}, b = {cs}, cs = {b}\")                 # a,b,c 변수 위치를 앞에 format 지정을 위한 f를 적어줌으로써 변수명으로 대체"
      ]
    },
    {
      "cell_type": "code",
      "execution_count": null,
      "metadata": {
        "id": "dRgfMMH8nnu_"
      },
      "outputs": [],
      "source": [
        "##################### 입출력 모듈\n",
        "import os\n",
        "\n",
        "folder_name = \"saved_data\"\n",
        "if not os.path.exists(folder_name):\n",
        "    os.makedirs(folder_name)\n",
        "\n",
        "with open(\"saved_data/Hello.txt\", \"w\") as f:\n",
        "    f.write(\"Hello World\\n\")\n",
        "    f.write(\"Hello World\\n\")"
      ]
    },
    {
      "cell_type": "code",
      "execution_count": null,
      "metadata": {
        "colab": {
          "base_uri": "https://localhost:8080/"
        },
        "id": "2iDMGfbaone_",
        "outputId": "b9aaf56d-9461-4dba-ce55-8991eb019bc8"
      },
      "outputs": [
        {
          "name": "stdout",
          "output_type": "stream",
          "text": [
            "Hello World\n",
            "Hello World\n"
          ]
        }
      ],
      "source": [
        "with open(\"saved_data/Hello.txt\", \"r\") as f:\n",
        "    line = None\n",
        "    while line != \"\":\n",
        "        line = f.readline()\n",
        "        print(line, end=\"\")\n"
      ]
    },
    {
      "cell_type": "code",
      "execution_count": null,
      "metadata": {
        "colab": {
          "base_uri": "https://localhost:8080/"
        },
        "id": "LEuAU5rOyM3o",
        "outputId": "f7a66a08-a85f-437d-f78c-f4ea2ea89162"
      },
      "outputs": [
        {
          "data": {
            "text/plain": [
              "4"
            ]
          },
          "execution_count": 2,
          "metadata": {},
          "output_type": "execute_result"
        }
      ],
      "source": [
        "##################### 함수\n",
        "def f(x):\n",
        "    return x**2\n",
        "\n",
        "f(-2)   # 함수 콜"
      ]
    },
    {
      "cell_type": "code",
      "execution_count": null,
      "metadata": {
        "colab": {
          "base_uri": "https://localhost:8080/"
        },
        "id": "wJBMlqERzu8Z",
        "outputId": "8c9bbfc0-cdf7-4856-8d2b-fce967fc24c3"
      },
      "outputs": [
        {
          "name": "stdout",
          "output_type": "stream",
          "text": [
            "[5, 2]\n"
          ]
        }
      ],
      "source": [
        "# Python is call by assignment\n",
        "\n",
        "a=[1,2]\n",
        "\n",
        "def f(x):   # Mutable Object: call by reference\n",
        "    x[0]=5  # 함수 내에서 값 변경됨\n",
        "\n",
        "f(a)\n",
        "print(a)"
      ]
    },
    {
      "cell_type": "code",
      "execution_count": null,
      "metadata": {
        "colab": {
          "base_uri": "https://localhost:8080/"
        },
        "id": "vqXqYavo1orW",
        "outputId": "d6f6fad8-8fe8-4ea7-f4c8-9db2618814d0"
      },
      "outputs": [
        {
          "name": "stdout",
          "output_type": "stream",
          "text": [
            "1\n",
            "2\n",
            "1\n",
            "2\n",
            "1\n"
          ]
        }
      ],
      "source": [
        "a = 1\n",
        "b = 2\n",
        "\n",
        "print(a)\n",
        "print(b)\n",
        "\n",
        "def swap(a,b): # Immutable Objects: call by value\n",
        "    temp = a\n",
        "    a = b\n",
        "    b = temp\n",
        "\n",
        "print(a)\n",
        "print(b)\n",
        "\n",
        "def f(a):   # Immutable Objects: call by value\n",
        "    a = 3   # 함수 내부에서 값 바꿀 수 없음\n",
        "\n",
        "print(a)\n"
      ]
    },
    {
      "cell_type": "code",
      "execution_count": null,
      "metadata": {
        "colab": {
          "base_uri": "https://localhost:8080/"
        },
        "id": "AQv2pzjx52bW",
        "outputId": "ce84f19c-8fca-45d6-9ca8-adacc3010945"
      },
      "outputs": [
        {
          "name": "stdout",
          "output_type": "stream",
          "text": [
            "(5, 15)\n",
            "5\n",
            "15\n"
          ]
        }
      ],
      "source": [
        "a = 5\n",
        "b = 15\n",
        "\n",
        "def executeAddSubt(a, b):\n",
        "    c = a + b\n",
        "    d = a - b\n",
        "    return a, b\n",
        "\n",
        "print(executeAddSubt(a,b))\n",
        "\n",
        "c, d = executeAddSubt(a,b)\n",
        "\n",
        "print(c)\n",
        "print(d)\n"
      ]
    },
    {
      "cell_type": "code",
      "execution_count": null,
      "metadata": {
        "colab": {
          "base_uri": "https://localhost:8080/"
        },
        "id": "e46TaBe67AWf",
        "outputId": "352fa6bc-7a48-4944-fe81-1b8464aee77e"
      },
      "outputs": [
        {
          "name": "stdout",
          "output_type": "stream",
          "text": [
            "(10, 20)\n",
            "10 20\n"
          ]
        },
        {
          "data": {
            "text/plain": [
              "30"
            ]
          },
          "execution_count": 32,
          "metadata": {},
          "output_type": "execute_result"
        }
      ],
      "source": [
        "##################### 언패킹\n",
        "x = (10, 20)\n",
        "print(x)\n",
        "print(*x)       # Unpacking\n",
        "\n",
        "def add(a, b):\n",
        "    return a + b\n",
        "\n",
        "# add(x)        # 이렇게 실행하면 안됨\n",
        "add(*x)         # 언패킹해서 실행하면 가능\n",
        "add(*(10, 20))  # 상단 구문의 정리\n"
      ]
    },
    {
      "cell_type": "code",
      "execution_count": null,
      "metadata": {
        "colab": {
          "base_uri": "https://localhost:8080/"
        },
        "id": "BDNRFReM8MqR",
        "outputId": "9d7da7d7-b50e-4de8-f969-d7a86cb7248c"
      },
      "outputs": [
        {
          "name": "stdout",
          "output_type": "stream",
          "text": [
            "a 에는 2가 들어있고, 타입은 <class 'int'> 이다.\n",
            "a 에는 (2, 3, 4)가 들어있고, 타입은 <class 'tuple'> 이다.\n",
            "2 <class 'int'>\n",
            "3 <class 'int'>\n",
            "4 <class 'int'>\n",
            "a 에는 (2, 3)가 들어있고, 타입은 <class 'tuple'> 이다.\n",
            "2 <class 'int'>\n",
            "3 <class 'int'>\n"
          ]
        }
      ],
      "source": [
        "def descb(a):\n",
        "    print(f\"a 에는 {a}가 들어있고, 타입은 {type(a)} 이다.\")\n",
        "\n",
        "descb(2)\n",
        "# descb(2,3)         # 실행불가능\n",
        "\n",
        "def descb(*args):    # 전제: a가 패킹되어있고 언패킹한 상태로 받는다\n",
        "    print(f\"a 에는 {args}가 들어있고, 타입은 {type(args)} 이다.\")\n",
        "    for i in args:\n",
        "        print(i, type(i))\n",
        "        # print(f\"{i}'s type is {type(i)}\")\n",
        "\n",
        "descb(2,3,4)         # 이제는 실행이 가능\n",
        "descb(2,3)           # 가변 입력이 가능해짐"
      ]
    },
    {
      "cell_type": "code",
      "execution_count": null,
      "metadata": {
        "colab": {
          "base_uri": "https://localhost:8080/"
        },
        "id": "O-Ra3KOA_7Qt",
        "outputId": "3f0a3e44-055d-4bfb-a99b-561516f17353"
      },
      "outputs": [
        {
          "name": "stdout",
          "output_type": "stream",
          "text": [
            "이름: 승재, 나이: 22, 주소:수원\n",
            "이름: 승재, 나이: 수원, 주소:22\n",
            "이름: 승재, 나이: 22, 주소:수원\n",
            "이름: 승재, 나이: 22, 주소:수원\n",
            "이름: 승재, 나이: 22, 주소:수원\n",
            "이름: 승재, 나이: secrete, 주소:secrete\n",
            "이름: 승재, 나이: secrete, 주소:용인\n"
          ]
        }
      ],
      "source": [
        "def intro_all(name, age, addr):\n",
        "    print(f\"이름: {name}, 나이: {age}, 주소:{addr}\")\n",
        "\n",
        "intro_all(\"승재\", 22, \"수원\")\n",
        "intro_all(\"승재\", \"수원\", 22)\n",
        "intro_all(name=\"승재\", addr=\"수원\", age=22)\n",
        "\n",
        "name=\"승재\"; address=\"수원\"; age=22\n",
        "intro_all(name=name, addr=address, age=age)\n",
        "\n",
        "def intro_defalt(name, age=\"secrete\", addr=\"secrete\"):     # 디폴트 값 어싸인하면 인자 없이도 실행이 된다.\n",
        "    print(f\"이름: {name}, 나이: {age}, 주소:{addr}\")       # 하지만 반드시 뒤로 디폴트 값 있는 변수를 몰아야한다.\n",
        "\n",
        "intro_defalt(\"승재\", 22, \"수원\")\n",
        "intro_defalt(\"승재\")\n",
        "intro_defalt(name=\"승재\", addr=\"용인\")"
      ]
    },
    {
      "cell_type": "code",
      "execution_count": null,
      "metadata": {
        "colab": {
          "base_uri": "https://localhost:8080/"
        },
        "id": "symxqQic2_rx",
        "outputId": "a9e80a00-dd03-4052-b59d-f30037ec5093"
      },
      "outputs": [
        {
          "name": "stdout",
          "output_type": "stream",
          "text": [
            "name age addr\n",
            "이름: name, 나이: age, 주소:addr\n",
            "이름: 승재, 나이: 23, 주소:성남\n",
            "\n",
            "k = {'name': '승재'} & Type = <class 'dict'>\n",
            "k = {'name': '승재', 'age': 24, 'addr': '안양'} & Type = <class 'dict'>\n",
            "\n",
            "이름: 승재, 이름: 24, \n",
            "이름: 승재, \n"
          ]
        }
      ],
      "source": [
        "a = {\"name\":\"승재\", \"age\":\"23\", \"addr\":\"성남\"}\n",
        "print(*a)       # 딕셔너리를 언패킹하면 key값을 준다.\n",
        "\n",
        "def intro_dic(name, age=\"secrete\", addr=\"secrete\"):\n",
        "    print(f\"이름: {name}, 나이: {age}, 주소:{addr}\")\n",
        "\n",
        "intro_dic(*a)   # key값이 함수의 인자로 전달됨 = intro_dic(\"name\", \"age\", \"addr\")\n",
        "intro_dic(**a)  # value값이 함수의 인자로 전달됨 = intro_dic(\"승재\", \"23\", \"성남\")\n",
        "\n",
        "print()\n",
        "\n",
        "def test_kwarg(**kwargs):   # 딕셔너리 형태로 입력을 받는다.\n",
        "    print(f\"k = {kwargs} & Type = {type(kwargs)}\")\n",
        "\n",
        "test_kwarg(name=\"승재\")\n",
        "test_kwarg(name=\"승재\", age=24, addr=\"안양\")\n",
        "\n",
        "print()\n",
        "\n",
        "def intro_kwarg(**kwargs):\n",
        "    keys = [\"name\",\"age\",\"house\"]\n",
        "    for key in keys:\n",
        "        if key in kwargs:    # key 변수에 해당하는 키가 있으면 출력\n",
        "            print(f\"이름: {kwargs.get(key)}\", end=\", \") # get이라는 method를 통해서 딕셔너리에 접근\n",
        "            # print(f\"이름: {kwargs[key]}\", end=\", \")   # 위 줄과 같은 역할 딕셔너리에 접근하는 다른 방법\n",
        "    print()\n",
        "\n",
        "intro_kwarg(name=\"승재\", age=24, addr=\"안양\")\n",
        "intro_kwarg(name=\"승재\", addr=\"안양\")"
      ]
    },
    {
      "cell_type": "code",
      "execution_count": null,
      "metadata": {
        "colab": {
          "base_uri": "https://localhost:8080/"
        },
        "id": "0Czx9enxNITe",
        "outputId": "7d17f51a-ee26-44c4-9374-42b2bd6ef1a1"
      },
      "outputs": [
        {
          "name": "stdout",
          "output_type": "stream",
          "text": [
            "hello world!\n",
            "hello world!\n",
            "hello world!\n",
            "6\n",
            "2\n",
            "1\n",
            "1\n"
          ]
        }
      ],
      "source": [
        "##################### 재귀함수\n",
        "def say(count):\n",
        "    if count == 0:\n",
        "        return\n",
        "    print(\"hello world!\")\n",
        "    count -= 1\n",
        "    say(count)\n",
        "\n",
        "say(3)\n",
        "\n",
        "def factorial(n):\n",
        "    if n == 0 or n == 1:\n",
        "        return 1\n",
        "    return n*factorial(n-1)\n",
        "\n",
        "print(factorial(3))\n",
        "print(factorial(2))\n",
        "print(factorial(1))\n",
        "print(factorial(0))"
      ]
    },
    {
      "cell_type": "markdown",
      "metadata": {
        "id": "aLGUCfCAOxCY"
      },
      "source": [
        "# Variable & Class"
      ]
    },
    {
      "cell_type": "code",
      "execution_count": null,
      "metadata": {
        "colab": {
          "base_uri": "https://localhost:8080/"
        },
        "id": "1D7fIRlFOwnw",
        "outputId": "60bf88cf-ad3d-47f8-a2a9-57b7aea1507a"
      },
      "outputs": [
        {
          "name": "stdout",
          "output_type": "stream",
          "text": [
            "0번째 epoch의 0번째 batch\n",
            "0번째 epoch의 1번째 batch\n",
            "0번째 epoch의 2번째 batch\n",
            "0번째 epoch의 3번째 batch\n",
            "0번째 epoch의 4번째 batch\n",
            "1번째 epoch의 0번째 batch\n",
            "1번째 epoch의 1번째 batch\n",
            "1번째 epoch의 2번째 batch\n",
            "1번째 epoch의 3번째 batch\n",
            "1번째 epoch의 4번째 batch\n",
            "10\n",
            "20\n"
          ]
        }
      ],
      "source": [
        "# Global Variables\n",
        "EPOCH = 2;\n",
        "BATCH = 5;\n",
        "\n",
        "# Local Variables\n",
        "def train(weight):          # weight는 함수의 parameter(매개변수)로 local variable이다.\n",
        "    x = 1                   # x는 local variable(지역변수)이다.\n",
        "    global y                # 함수 내에서 global variable(전역변수)을 선언할 수도 있다.\n",
        "    y = 20;\n",
        "    for i in range(EPOCH):  # EPOCH는 전역변수로 함수내에서 접근가능하다.\n",
        "        for j in range(BATCH):\n",
        "            print(f\"{i}번째 epoch의 {j}번째 batch\")\n",
        "            weight += 1\n",
        "    return weight\n",
        "\n",
        "print(train(0))\n",
        "print(y)"
      ]
    },
    {
      "cell_type": "code",
      "execution_count": null,
      "metadata": {
        "colab": {
          "base_uri": "https://localhost:8080/"
        },
        "id": "C5GXujrDStqn",
        "outputId": "346b612e-d7f6-479e-838a-a05830d59b86"
      },
      "outputs": [
        {
          "name": "stdout",
          "output_type": "stream",
          "text": [
            "100\n",
            "10\n",
            "100\n",
            "100\n"
          ]
        }
      ],
      "source": [
        "x = 10\n",
        "\n",
        "def f():\n",
        "    x = 100     # 전역 변수와 같은 지역 변수를 만들면 지역 변수로 간주됨\n",
        "    print(x)\n",
        "\n",
        "f()\n",
        "print(x)        # 전역 변수가 바뀌지 않음\n",
        "\n",
        "def f():\n",
        "    global x    # 전역 변수를 함수 내에서 수정하고 싶으면 반드시 global이라고 명시해야함\n",
        "    x = 100\n",
        "    print(x)\n",
        "\n",
        "f()\n",
        "print(x)        # 전역 변수가 바뀜"
      ]
    },
    {
      "cell_type": "code",
      "execution_count": null,
      "metadata": {
        "colab": {
          "base_uri": "https://localhost:8080/"
        },
        "id": "31bQ_XW7_YrU",
        "outputId": "cf61c195-0269-420b-d022-0923c6f15d02"
      },
      "outputs": [
        {
          "name": "stdout",
          "output_type": "stream",
          "text": [
            "A robot instance is created\n",
            "I'm a robot instance\n",
            "My name is 로보트\n"
          ]
        }
      ],
      "source": [
        "##################### 클래스 기본\n",
        "\n",
        "class Robot:\n",
        "\n",
        "    def __init__(self):         # class가 생성될때 반드시 실행되는 constructor(생성자), __init__ 처럼 underbar있는 method는 예약\n",
        "        print(\"A robot instance is created\")\n",
        "        self.name = \"로보트\"    # class 내부에 attribute(변수) 선언\n",
        "\n",
        "    def introduce(self):\n",
        "        print(f\"My name is {self.name}\")\n",
        "\n",
        "    def greeting(self):         # class내에서 method 선언, 첫 번째 parameter는 반드시 self(인스턴스 자기자신)\n",
        "        print(\"I'm a robot instance\")\n",
        "\n",
        "\n",
        "\n",
        "robot_1 = Robot()       # Robot class에 해당하는 instance 생성\n",
        "robot_1.greeting()      # Robot class에 존재하는 greeting method를 call\n",
        "robot_1.introduce()      # Robot class에 존재하는 greeting method를 call\n"
      ]
    },
    {
      "cell_type": "code",
      "execution_count": null,
      "metadata": {
        "colab": {
          "base_uri": "https://localhost:8080/"
        },
        "id": "HNx_CfBoFHhJ",
        "outputId": "3f81c841-b8f9-4a16-93a0-ce0597b17f19"
      },
      "outputs": [
        {
          "name": "stdout",
          "output_type": "stream",
          "text": [
            "A robot instance is created\n",
            "My name is 로보카폴리\n",
            "A robot instance is created\n",
            "My name is 터닝메카드\n",
            "My name is 메카드터닝\n",
            "True\n"
          ]
        }
      ],
      "source": [
        "class Robot:\n",
        "\n",
        "    def __init__(self, height, name = \"로보카폴리\"): # 생성자에 name이라는 매개변수의 defalt설정\n",
        "        print(\"A robot instance is created\")         # *args 또는 **kwarg도 사용가능\n",
        "        self.height = height    # self.height는 인스턴스 내부에서 활용됨 height는 단순 매개변수\n",
        "        self.name = name\n",
        "\n",
        "    def introduce(self):\n",
        "        print(f\"My name is {self.name}\")\n",
        "\n",
        "robot_1 = Robot(160)                 # Robot class에 외부변수 도입\n",
        "robot_1.introduce()                  # Defalt값으로 name 인자를 넘긴다\n",
        "\n",
        "robot_2 = Robot(160,\"터닝메카드\")    # Robot class에 name 지정\n",
        "robot_2.introduce()                  # 지정한 값으로 name 인자를 넘긴다\n",
        "robot_2.name = \"메카드터닝\"          # 외부에서 클래스의 attribute 변경가능\n",
        "robot_2.friend = True                # 외부에서 새로운 attribute 생성가능\n",
        "robot_2.introduce()\n",
        "print(robot_2.friend)"
      ]
    },
    {
      "cell_type": "code",
      "execution_count": null,
      "metadata": {
        "colab": {
          "base_uri": "https://localhost:8080/"
        },
        "id": "WvwUZrzJH1Cg",
        "outputId": "953d6b35-94c5-44bc-bbad-52723c53de65"
      },
      "outputs": [
        {
          "name": "stdout",
          "output_type": "stream",
          "text": [
            "A robot instance is created\n",
            "100\n",
            "My name is 또봇\n",
            "Heigtht is 100\n"
          ]
        }
      ],
      "source": [
        "##################### 클래스 심화\n",
        "class Robot:\n",
        "    __slots__ = (\"name\", \"height\", \"version\")         # 지정된 이름의 attribute만 생성\n",
        "\n",
        "    def __init__(self, **kwargs):                     # *args 또는 **kwarg도 사용예시\n",
        "        print(\"A robot instance is created\")\n",
        "        for key in self.__slots__:\n",
        "            if key in kwargs:\n",
        "               setattr(self, key, kwargs[key])        # setattr이라는 예약함수를 이용하여 원하는 attribute에 딕셔너리 값을 할당\n",
        "\n",
        "    def introduce(self):\n",
        "        print(f\"My name is {self.name}\")\n",
        "        print(f\"Heigtht is {self.height}\")\n",
        "\n",
        "robot_1 = Robot(name=\"터닝메카드\", height=100)\n",
        "\n",
        "setattr(robot_1, 'name', '또봇')                       # 외부에서 attribute에 R/W 가능\n",
        "print(robot_1.height)\n",
        "# robot_1.friend = False # __slots__에 없는 attribute는 생성불가능\n",
        "\n",
        "robot_1.introduce()"
      ]
    },
    {
      "cell_type": "code",
      "execution_count": null,
      "metadata": {
        "colab": {
          "base_uri": "https://localhost:8080/"
        },
        "id": "9jEAWGyXRQvS",
        "outputId": "b1694142-3320-48c9-ca06-2d417717277c"
      },
      "outputs": [
        {
          "name": "stdout",
          "output_type": "stream",
          "text": [
            "A robot instance is created\n",
            "터닝메카드\n",
            "My name is 터닝메카드\n",
            "Heigtht is 90\n",
            "My name is 터닝메카드\n",
            "Heigtht is 80\n"
          ]
        }
      ],
      "source": [
        "class Robot:\n",
        "\n",
        "    def __init__(self, **kwargs):                     # *args 또는 **kwarg도 사용예시\n",
        "        print(\"A robot instance is created\")\n",
        "        self.__height = kwargs[\"height\"]              # .__'변수명'으로 생성한 attribute는 외부에서 접근 불가능\n",
        "        self.name = kwargs[\"name\"]\n",
        "\n",
        "    def introduce(self):\n",
        "        print(f\"My name is {self.name}\")\n",
        "\n",
        "        self.__height -= 10                           # 내부에서는 __height에 접근 가능\n",
        "        print(f\"Heigtht is {self.__height}\")\n",
        "\n",
        "robot_1 = Robot(name=\"터닝메카드\", height=100)\n",
        "\n",
        "print(robot_1.name)                                   # 외부에서 attribute에 R/W 가능\n",
        "# print(robot_1.height)                               # 외부에서 attribute에 R/W 불가능\n",
        "\n",
        "robot_1.introduce()                                   # Class의 method를 통해서만 출력\n",
        "robot_1.introduce()                                   # Class의 method를 통해서만 출력"
      ]
    },
    {
      "cell_type": "code",
      "execution_count": null,
      "metadata": {
        "colab": {
          "base_uri": "https://localhost:8080/"
        },
        "id": "bfn3dN2xSeiB",
        "outputId": "7ac55567-5d7b-4e7a-a988-037ecbf53bfc"
      },
      "outputs": [
        {
          "name": "stdout",
          "output_type": "stream",
          "text": [
            "What's up?\n",
            "I'm Cleaning Robot!\n",
            "How may I help you?\n",
            "True\n",
            "True\n",
            "Robot::Clearning\n",
            "\n",
            "What's up?\n",
            "True\n",
            "Robot\n"
          ]
        }
      ],
      "source": [
        "##################### 클래스 상속 및 오버라이딩\n",
        "\n",
        "class Robot:                    # Parent Class\n",
        "    def __init__(self):\n",
        "        self.identify = True\n",
        "        self.style = \"Robot\"\n",
        "\n",
        "    def greeting(self):\n",
        "        print(\"What's up?\")\n",
        "\n",
        "    def introduce(self):\n",
        "        print(\"How may I help you?\")\n",
        "        self.introduced = True\n",
        "\n",
        "class CleaningRobot(Robot):     # Child Class -> 여러 개의 부모 클래스에서 상속받을 수 있다.\n",
        "    def __init__(self):         # 부모 클래스의 Attribtute를 상속 받지는 않으나\n",
        "        super().__init__()      # 본 명령어를 통해서 부모 클래스(super()의 생성자를 실행)의 attribute를 동일하게 초기화\n",
        "                                # 자식 클래스에 __init__이 없으면 부모 클래스의 __init__을 실행\n",
        "        self.style = \"Robot::Clearning\"\n",
        "\n",
        "    def greeting(self):         # 부모 클래스와 같은 메서드를 재 정의(overriding)\n",
        "        super().greeting()      # 부모 클래스와 같은 역할을 수행 후\n",
        "        print(\"I'm Cleaning Robot!\") # 기능을 추가\n",
        "\n",
        "\n",
        "robot_clean = CleaningRobot()\n",
        "robot_clean.greeting()          # 상속된 클래스에서 부모 클래스와 같은 이름의 method를 정의해서 실행\n",
        "robot_clean.introduce()         # 부모 클래스의 method 사용 가능\n",
        "print(robot_clean.introduced)   # 부모 클래스의 attribute도 실행 후에는 생긴다\n",
        "print(robot_clean.identify)     # super().__init__()의 사용으로 접근 가능\n",
        "print(robot_clean.style)\n",
        "\n",
        "print()\n",
        "\n",
        "robot_car = Robot()\n",
        "robot_car.greeting()\n",
        "print(robot_car.identify)\n",
        "print(robot_car.style)"
      ]
    },
    {
      "cell_type": "code",
      "execution_count": null,
      "metadata": {
        "colab": {
          "base_uri": "https://localhost:8080/"
        },
        "id": "pVIzIk7Qe8Ju",
        "outputId": "b345065a-7d0a-4112-c782-115f23d0a95f"
      },
      "outputs": [
        {
          "name": "stdout",
          "output_type": "stream",
          "text": [
            "D created\n",
            "B\n"
          ]
        }
      ],
      "source": [
        "class A:\n",
        "    def test(self):\n",
        "        print(\"A\")\n",
        "\n",
        "class B(A):\n",
        "    def test(self):     # 오버라이딩\n",
        "        print(\"B\")\n",
        "\n",
        "class C(A):\n",
        "    def test(self):     # 오버라이딩\n",
        "        print(\"C\")\n",
        "\n",
        "class D(B,C):           # 앞에 써있는 클래스를 우선 상속\n",
        "    def __init__(self):\n",
        "        print(\"D created\")\n",
        "\n",
        "test = D()\n",
        "test.test()"
      ]
    },
    {
      "cell_type": "markdown",
      "metadata": {
        "id": "pnuCCuPBU9FR"
      },
      "source": [
        "# Rambda Expression"
      ]
    },
    {
      "cell_type": "code",
      "execution_count": null,
      "metadata": {
        "colab": {
          "base_uri": "https://localhost:8080/"
        },
        "id": "px8fM_5PU83Y",
        "outputId": "b75cf2ef-d655-4628-f742-897b0f87c614"
      },
      "outputs": [
        {
          "name": "stdout",
          "output_type": "stream",
          "text": [
            "9\n",
            "8\n"
          ]
        },
        {
          "data": {
            "text/plain": [
              "7"
            ]
          },
          "execution_count": 63,
          "metadata": {},
          "output_type": "execute_result"
        }
      ],
      "source": [
        "def plus_ten(x):\n",
        "    return x+10\n",
        "\n",
        "print(plus_ten(-1))\n",
        "\n",
        "plus_nine = lambda x: x+9      # 입력이 x이고 출력이 x+9\n",
        "\n",
        "print(plus_nine(-1))\n",
        "\n",
        "(lambda x: x+8)(-1)            # 입력이 x이고 출력이 x+8 인 함수에 argument(인자)로 -1을 넣는다.\n"
      ]
    },
    {
      "cell_type": "code",
      "execution_count": null,
      "metadata": {
        "colab": {
          "base_uri": "https://localhost:8080/"
        },
        "id": "GQi_M0JLW0LR",
        "outputId": "d6af6a07-567e-493d-c746-06628437ba81"
      },
      "outputs": [
        {
          "name": "stdout",
          "output_type": "stream",
          "text": [
            "[6, 5, 4]\n",
            "[6, 5, 4]\n"
          ]
        }
      ],
      "source": [
        "def plus_seven(x):\n",
        "    return x+7\n",
        "\n",
        "a = list(map(plus_seven, [-1, -2, -3]))     # map이라는 함수는 인자로 받은 함수를 리스트의 각 원소에 적용하는 역할\n",
        "print(a)\n",
        "\n",
        "b = list(map(lambda x: x+7, [-1, -2, -3]))  # 람다 표현식을 이용하면 더 간단해진다.\n",
        "print(b)\n"
      ]
    },
    {
      "cell_type": "code",
      "execution_count": null,
      "metadata": {
        "colab": {
          "base_uri": "https://localhost:8080/"
        },
        "id": "UyC0awV5XZGQ",
        "outputId": "65284083-67df-4461-aa24-c1ac7cb39300"
      },
      "outputs": [
        {
          "name": "stdout",
          "output_type": "stream",
          "text": [
            "[4, 4, 4]\n",
            "[5, 5, 5]\n",
            "[0, 4, 8]\n",
            "[1, 4, 3, 8, 5]\n",
            "[0, 4, 9, 8, 0]\n"
          ]
        }
      ],
      "source": [
        "f = lambda a, b: a+b\n",
        "print(list(map(f,[1, 2, 3], [3, 2, 1])))\n",
        "\n",
        "f = lambda a, b: a+b+1                # 람다 표현식은 안에서 지역 변수 활용 불가능 & 출력도 한 개만 가능\n",
        "print(list(map(f,[1, 2, 3], [3, 2, 1])))\n",
        "\n",
        "f = lambda a: a*2 if a%2==0 else a/2  # 람다 표현식에서 조건문 적용 가능\n",
        "print(list(map(f,[0, 2, 4])))\n",
        "\n",
        "f = lambda a, idx: a*2 if (idx+1)%2==0 else a\n",
        "print(list(map(f,[1, 2, 3, 4, 5], range(5))))\n",
        "\n",
        "f = lambda a: a*2 if a%2==0 else a*3 if a%3==0 else 0\n",
        "print(list(map(f,[1, 2, 3, 4, 5])))"
      ]
    },
    {
      "cell_type": "markdown",
      "metadata": {
        "id": "m2k1OaGTf8Qg"
      },
      "source": [
        "# Iterator, Generator"
      ]
    },
    {
      "cell_type": "code",
      "execution_count": null,
      "metadata": {
        "colab": {
          "base_uri": "https://localhost:8080/"
        },
        "id": "Z-H1sFRSf7sp",
        "outputId": "a0ce8e4b-cad7-48fb-f111-bdc11f763976"
      },
      "outputs": [
        {
          "name": "stdout",
          "output_type": "stream",
          "text": [
            "<class 'list_iterator'>\n",
            "1\n",
            "2\n",
            "3\n"
          ]
        }
      ],
      "source": [
        "a = [1, 2, 3]\n",
        "a_iter = iter(a)    # For Loop과 달리 필요한 순간에 계산이 가능하다.\n",
        "\n",
        "print(type(a_iter))\n",
        "print(next(a_iter))\n",
        "print(next(a_iter))\n",
        "print(next(a_iter))\n",
        "print(next(a_iter)) # 더 이상 진행되지 않음"
      ]
    },
    {
      "cell_type": "code",
      "execution_count": null,
      "metadata": {
        "colab": {
          "base_uri": "https://localhost:8080/"
        },
        "id": "KD9sjFpjhFsy",
        "outputId": "7696532a-7006-4b12-8575-c8da01b1e4dc"
      },
      "outputs": [
        {
          "name": "stdout",
          "output_type": "stream",
          "text": [
            "a\n",
            "b is printed in 1th iteration\n",
            "c is printed in 2th iteration\n",
            "d is printed in 3th iteration\n"
          ]
        }
      ],
      "source": [
        "_dictionary = iter({\"a\": 1, \"b\": 2, \"c\": 3, \"d\": 4})\n",
        "\n",
        "print(next(_dictionary))\n",
        "\n",
        "d = 1\n",
        "for i in _dictionary:\n",
        "    print(f\"{i} is printed in {d}th iteration\")\n",
        "    d += 1\n"
      ]
    },
    {
      "cell_type": "code",
      "execution_count": null,
      "metadata": {
        "colab": {
          "base_uri": "https://localhost:8080/"
        },
        "id": "zzzlyabViHRy",
        "outputId": "ab5b9714-8563-4342-86a3-9f6eb809bb13"
      },
      "outputs": [
        {
          "name": "stdout",
          "output_type": "stream",
          "text": [
            "First\n",
            "[0, 1]\n",
            "———\n",
            "Second\n",
            "[0, 1, 2]\n",
            "———\n",
            "Third\n",
            "END\n",
            "———\n",
            "Bye\n",
            "———\n"
          ]
        }
      ],
      "source": [
        "def generator():        # Generator란? Iterator를 생성해주는 함수\n",
        "    data = [0]          # return 대신 yield를 활용\n",
        "\n",
        "    print(\"First\")\n",
        "    data.append(1)\n",
        "    yield data          # 방식은 yield 이후에 함수 일시정지하여 멈춰있는 것과 같다.\n",
        "\n",
        "    print(\"Second\")\n",
        "    data.append(2)\n",
        "    yield data\n",
        "\n",
        "    print(\"Third\")\n",
        "\n",
        "\n",
        "gen = generator()\n",
        "print(next(gen, \"END\"))\n",
        "print(\"———\")\n",
        "print(next(gen))\n",
        "print(\"———\")\n",
        "# print(next(gen))      # 더이상 실행할 수 없을때 에러가 출력됨\n",
        "# print(\"———\")\n",
        "print(next(gen, \"END\")) # 더이상 실행할 수 없을때 두 번째 인자를 출력하여 종료를 알린다.\n",
        "print(\"———\")\n",
        "print(next(gen, \"Bye\")) # 더이상 실행할 수 없을때 두 번째 인자를 출력하여 종료를 알린다.\n",
        "print(\"———\")"
      ]
    }
  ],
  "metadata": {
    "colab": {
      "provenance": []
    },
    "kernelspec": {
      "display_name": "Python 3",
      "name": "python3"
    },
    "language_info": {
      "name": "python"
    }
  },
  "nbformat": 4,
  "nbformat_minor": 0
}
